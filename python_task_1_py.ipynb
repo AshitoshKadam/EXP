{
  "nbformat": 4,
  "nbformat_minor": 0,
  "metadata": {
    "colab": {
      "provenance": [],
      "authorship_tag": "ABX9TyPiYvAkPMrNlHHQfUZlHprQ",
      "include_colab_link": true
    },
    "kernelspec": {
      "name": "python3",
      "display_name": "Python 3"
    },
    "language_info": {
      "name": "python"
    }
  },
  "cells": [
    {
      "cell_type": "markdown",
      "metadata": {
        "id": "view-in-github",
        "colab_type": "text"
      },
      "source": [
        "<a href=\"https://colab.research.google.com/github/AshitoshKadam/EXP/blob/master/python_task_1_py.ipynb\" target=\"_parent\"><img src=\"https://colab.research.google.com/assets/colab-badge.svg\" alt=\"Open In Colab\"/></a>"
      ]
    },
    {
      "cell_type": "markdown",
      "source": [
        "Python task 1\n"
      ],
      "metadata": {
        "id": "RSSdhI6Mdt3c"
      }
    },
    {
      "cell_type": "markdown",
      "source": [
        "Q 1"
      ],
      "metadata": {
        "id": "upGm3m_gQu5X"
      }
    },
    {
      "cell_type": "code",
      "execution_count": 15,
      "metadata": {
        "id": "n4E-ngKpLcqp",
        "colab": {
          "base_uri": "https://localhost:8080/"
        },
        "outputId": "00eff9ba-71b7-4f5f-b5f6-10960c68819e"
      },
      "outputs": [
        {
          "output_type": "stream",
          "name": "stdout",
          "text": [
            "id_2   801   802  803  804   805   806\n",
            "id_1                                  \n",
            "801    0.0   2.8  6.0  7.7  11.7  13.4\n",
            "802    2.8   0.0  3.4  5.2   9.2  10.9\n",
            "803    6.0   3.4  0.0  2.0   6.0   7.7\n",
            "804    7.7   5.2  2.0  0.0   4.4   6.1\n",
            "805   11.7   9.2  6.0  4.4   0.0   2.0\n",
            "806   13.4  10.9  7.7  6.1   2.0   0.0\n"
          ]
        }
      ],
      "source": [
        "import pandas as pd\n",
        "df=pd.read_csv('/content/dataset-1.csv')\n",
        "\n",
        "\n",
        "def generate_car_matrix(df)->pd.DataFrame:\n",
        "\n",
        "    # Write your logic here\n",
        "    df=pd.read_csv('/content/dataset-1.csv')\n",
        "\n",
        "    car_matrix = df.pivot(index='id_1', columns='id_2', values='car')\n",
        "    car_matrix = car_matrix.fillna(0)\n",
        "    for i in range(min(car_matrix.shape[0], car_matrix.shape[1])):\n",
        "        car_matrix.iloc[i, i] = 0\n",
        "\n",
        "\n",
        "\n",
        "    return car_matrix\n",
        "print(generate_car_matrix(df).iloc[:6,:6])\n"
      ]
    },
    {
      "cell_type": "markdown",
      "source": [
        "Q 2"
      ],
      "metadata": {
        "id": "zJc7sTZBQtc8"
      }
    },
    {
      "cell_type": "code",
      "source": [
        "def get_type_count(df):\n",
        "\n",
        "    df = pd.read_csv('/content/dataset-1.csv')\n",
        "\n",
        "\n",
        "    df['car_type'] = pd.cut(df['car'], bins=[-float('inf'), 15, 25, float('inf')],\n",
        "                            labels=['low', 'medium', 'high'], right=False)\n",
        "\n",
        "\n",
        "    type_counts = df['car_type'].value_counts().to_dict()\n",
        "\n",
        "\n",
        "    sorted_type_counts = dict(sorted(type_counts.items()))\n",
        "\n",
        "    return sorted_type_counts\n",
        "\n",
        "\n",
        "df = '/content/dataset-1.csv'\n",
        "result_type_counts = get_type_count(df)\n",
        "print(result_type_counts)\n"
      ],
      "metadata": {
        "colab": {
          "base_uri": "https://localhost:8080/"
        },
        "id": "1tZzs8SdQCyn",
        "outputId": "1cd2bbbc-2082-4016-e57d-879027de2aec"
      },
      "execution_count": 17,
      "outputs": [
        {
          "output_type": "stream",
          "name": "stdout",
          "text": [
            "{'high': 56, 'low': 196, 'medium': 89}\n"
          ]
        }
      ]
    },
    {
      "cell_type": "markdown",
      "source": [
        "Q 3\n"
      ],
      "metadata": {
        "id": "6EU5xIMuQyXc"
      }
    },
    {
      "cell_type": "code",
      "source": [
        "def get_bus_indices(df):\n",
        "\n",
        "    df = pd.read_csv('dataset-1.csv')\n",
        "    bus_mean = df['bus'].mean()\n",
        "\n",
        "\n",
        "    bus_indices = df[df['bus'] > 2 * bus_mean].index\n",
        "\n",
        "\n",
        "    sorted_bus_indices = sorted(bus_indices)\n",
        "\n",
        "    return sorted_bus_indices\n",
        "\n",
        "\n",
        "df = 'dataset-1.csv'\n",
        "result_bus_indices = get_bus_indices(df)\n",
        "print(result_bus_indices)"
      ],
      "metadata": {
        "colab": {
          "base_uri": "https://localhost:8080/"
        },
        "id": "3gXW8vPeQyE7",
        "outputId": "5a7cc274-f92d-4cfc-cc08-1af2f0112e94"
      },
      "execution_count": 20,
      "outputs": [
        {
          "output_type": "stream",
          "name": "stdout",
          "text": [
            "[2, 7, 12, 17, 25, 30, 54, 64, 70, 97, 144, 145, 149, 154, 160, 201, 206, 210, 215, 234, 235, 245, 250, 309, 314, 319, 322, 323, 334, 340]\n"
          ]
        }
      ]
    },
    {
      "cell_type": "markdown",
      "source": [
        "Q 4"
      ],
      "metadata": {
        "id": "xEmqE_suWtkO"
      }
    },
    {
      "cell_type": "code",
      "source": [
        "def filter_routes(df):\n",
        "\n",
        "    df = pd.read_csv('dataset-1.csv')\n",
        "\n",
        "\n",
        "    route_avg_truck = df.groupby('route')['truck'].mean()\n",
        "\n",
        "\n",
        "    filtered_routes = route_avg_truck[route_avg_truck > 7].index.tolist()\n",
        "\n",
        "\n",
        "    sorted_filtered_routes = sorted(filtered_routes)\n",
        "\n",
        "    return sorted_filtered_routes\n",
        "\n",
        "df = 'dataset-1.csv'\n",
        "result_filtered_routes = filter_routes(df)\n",
        "print(result_filtered_routes)"
      ],
      "metadata": {
        "colab": {
          "base_uri": "https://localhost:8080/"
        },
        "id": "48rzxAhhSsC1",
        "outputId": "1075929f-8290-4e30-a311-e920e7043899"
      },
      "execution_count": 21,
      "outputs": [
        {
          "output_type": "stream",
          "name": "stdout",
          "text": [
            "[1, 2, 3, 4, 5, 6, 7, 8, 9, 10]\n"
          ]
        }
      ]
    },
    {
      "cell_type": "markdown",
      "source": [
        "Q 5"
      ],
      "metadata": {
        "id": "vof86sSOWsNS"
      }
    },
    {
      "cell_type": "code",
      "source": [
        "import pandas as pd\n",
        "\n",
        "def multiply_matrix(result_matrix):\n",
        "\n",
        "    modified_matrix = result_matrix.copy()\n",
        "\n",
        "\n",
        "    modified_matrix[modified_matrix > 20] *= 0.75\n",
        "    modified_matrix[modified_matrix <= 20] *= 1.25\n",
        "\n",
        "\n",
        "    modified_matrix = modified_matrix.round(1)\n",
        "\n",
        "    return modified_matrix\n",
        "\n",
        "\n",
        "dataset_path = 'dataset-1.csv'\n",
        "result_matrix = generate_car_matrix(dataset_path)\n",
        "\n",
        "modified_result_matrix = multiply_matrix(result_matrix)\n",
        "print(modified_result_matrix)\n"
      ],
      "metadata": {
        "colab": {
          "base_uri": "https://localhost:8080/"
        },
        "id": "s_Qj20gQTI3S",
        "outputId": "6bb101a8-240b-455d-e7db-1130eca6d7b4"
      },
      "execution_count": 25,
      "outputs": [
        {
          "output_type": "stream",
          "name": "stdout",
          "text": [
            "id_2   801   802   803   804   805   806   807   808   809   821   822   823  \\\n",
            "id_1                                                                           \n",
            "801    0.0   3.5   7.5   9.6  14.6  16.8  21.1  24.5  19.7  22.0  23.1  24.9   \n",
            "802    3.5   0.0   4.2   6.5  11.5  13.6  17.9  21.4  23.1  19.6  20.7  22.4   \n",
            "803    7.5   4.2   0.0   2.5   7.5   9.6  13.9  17.4  19.1  22.2  23.6  19.4   \n",
            "804    9.6   6.5   2.5   0.0   5.5   7.6  11.9  15.4  17.1  20.2  21.6  23.9   \n",
            "805   14.6  11.5   7.5   5.5   0.0   2.5   6.8  10.2  12.0  15.0  16.5  18.8   \n",
            "806   16.8  13.6   9.6   7.6   2.5   0.0   4.8   8.2  10.0  13.0  14.5  16.8   \n",
            "807   21.1  17.9  13.9  11.9   6.8   4.8   0.0   3.6   5.4   8.5  10.0  12.3   \n",
            "808   24.5  21.4  17.4  15.4  10.2   8.2   3.6   0.0   2.1   5.2   6.6   8.9   \n",
            "809   19.7  23.1  19.1  17.1  12.0  10.0   5.4   2.1   0.0   3.6   5.1   7.4   \n",
            "821   22.0  19.6  22.2  20.2  15.0  13.0   8.5   5.2   3.6   0.0   2.2   4.6   \n",
            "822   23.1  20.7  23.6  21.6  16.5  14.5  10.0   6.6   5.1   2.2   0.0   2.8   \n",
            "823   24.9  22.4  19.4  23.9  18.8  16.8  12.3   8.9   7.4   4.6   2.8   0.0   \n",
            "824   20.9  23.7  20.7  19.2  20.5   9.8  14.0  10.6   9.2   6.3   4.5   2.2   \n",
            "825   21.8  24.8  21.8  20.3  22.0  20.0  15.5  12.1  10.6   7.8   5.9   3.7   \n",
            "826   23.2  21.2  23.5  22.0  24.2  22.2  17.7  14.3  12.8  10.0   8.2   5.9   \n",
            "827   24.4  22.4  20.0  23.6  19.7  24.3  19.8  16.4  14.9  11.8  10.0   7.7   \n",
            "829   27.2  25.3  22.9  21.7  23.3  21.8  24.5  21.2  19.7  16.6  14.8  12.5   \n",
            "830   28.7  26.8  24.4  23.2  20.1  23.6  20.2  23.6  22.1  19.0  17.2  14.9   \n",
            "831   29.4  27.5  25.1  23.9  20.8  24.5  21.1  24.8  23.3  20.2  18.4  16.1   \n",
            "\n",
            "id_2   824   825   826   827   829   830   831  \n",
            "id_1                                            \n",
            "801   20.9  21.8  23.2  24.4  27.2  28.7  29.4  \n",
            "802   23.7  24.8  21.2  22.4  25.3  26.8  27.5  \n",
            "803   20.7  21.8  23.5  20.0  22.9  24.4  25.1  \n",
            "804   19.2  20.3  22.0  23.6  21.7  23.2  23.9  \n",
            "805   20.5  22.0  24.2  19.7  23.3  20.1  20.8  \n",
            "806   18.5  20.0  22.2  24.3  21.8  23.6  24.5  \n",
            "807   14.0  15.5  17.7  19.8  24.5  20.2  21.1  \n",
            "808   10.6  12.1  14.3  16.4  21.2  23.6  24.8  \n",
            "809    9.2  10.6  12.8  14.9  19.7  22.1  23.3  \n",
            "821    6.3   7.8  10.0  11.8  16.6  19.0  20.2  \n",
            "822    4.5   5.9   8.2  10.0  14.8  17.2  18.4  \n",
            "823    2.2   3.7   5.9   7.7  12.5  14.9  16.1  \n",
            "824    0.0   2.1   4.4   6.2  11.0  13.3  14.6  \n",
            "825    2.1   0.0   2.8   4.6   9.3  11.7  12.9  \n",
            "826    4.4   2.8   0.0   2.6   7.3   9.6  10.9  \n",
            "827    6.2   4.6   2.6   0.0   5.2   7.6   8.8  \n",
            "829   20.1   9.3   7.3   5.2   0.0   3.0   4.2  \n",
            "830   13.3   0.0   9.6   7.6   3.0   0.0   1.7  \n",
            "831   14.6  12.9  10.9   8.8   4.2   1.7   0.0  \n"
          ]
        }
      ]
    },
    {
      "cell_type": "markdown",
      "source": [
        "Q 6"
      ],
      "metadata": {
        "id": "v4V0W1ksWpt9"
      }
    },
    {
      "cell_type": "code",
      "source": [
        "import pandas as pd\n",
        "\n",
        "def check_timestamp_completeness(df):\n",
        "    try:\n",
        "        # Combine startDay and startTime columns to create a datetime column for the start timestamp\n",
        "        df['start_timestamp'] = pd.to_datetime(df['startDay'] + ' ' + df['startTime'])\n",
        "\n",
        "        # Combine endDay and endTime columns to create a datetime column for the end timestamp\n",
        "        df['end_timestamp'] = pd.to_datetime(df['endDay'] + ' ' + df['endTime'])\n",
        "\n",
        "    except pd.errors.OutOfBoundsDatetime as e:\n",
        "        # Handle the OutOfBoundsDatetime error\n",
        "        print(f\"Error: {e}\")\n",
        "        return pd.Series(False, index=pd.MultiIndex.from_frame(df[['id', 'id_2']]))\n",
        "\n",
        "    # Check if the time range for each (id, id_2) pair spans a full 24-hour period and all 7 days of the week\n",
        "    completeness_check = (\n",
        "        df.groupby(['id', 'id_2'])\n",
        "        .apply(lambda group: group['start_timestamp'].min().time() != pd.Timestamp('00:00:00').time() or\n",
        "                            group['end_timestamp'].max().time() != pd.Timestamp('23:59:59').time() or\n",
        "                            set(group['start_timestamp'].dt.dayofweek) != set(range(7)) or\n",
        "                            set(group['end_timestamp'].dt.dayofweek) != set(range(7))\n",
        "              )\n",
        "    )\n",
        "\n",
        "    return completeness_check\n",
        "\n",
        "# Example usage:\n",
        "# Assuming df is the DataFrame loaded from dataset-2.csv\n",
        "df = pd.read_csv('dataset-2.csv')\n",
        "result = check_timestamp_completeness(df)\n",
        "print(result)\n"
      ],
      "metadata": {
        "colab": {
          "base_uri": "https://localhost:8080/"
        },
        "id": "4Tfxt1RbVR84",
        "outputId": "ec8e3e50-e769-41f6-8115-bfe594561065"
      },
      "execution_count": 30,
      "outputs": [
        {
          "output_type": "stream",
          "name": "stdout",
          "text": [
            "Error: Out of bounds nanosecond timestamp: 1-01-01 05:00:00 present at position 0\n",
            "id       id_2    \n",
            "1040000  -1          False\n",
            "1040010  -1          False\n",
            "1040020  -1          False\n",
            "1040030  -1          False\n",
            "1050000   1050001    False\n",
            "                     ...  \n",
            "1031012   1031030    False\n",
            "          1031032    False\n",
            "1031014   1031016    False\n",
            "          1031018    False\n",
            "          1031020    False\n",
            "Length: 39514, dtype: bool\n"
          ]
        }
      ]
    }
  ]
}